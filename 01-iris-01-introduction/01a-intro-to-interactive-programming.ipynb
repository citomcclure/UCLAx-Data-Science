{
 "cells": [
  {
   "cell_type": "markdown",
   "metadata": {},
   "source": [
    "## How to Program Interactively\n",
    "\n",
    "### Plotting a Strange Attractor\n",
    "\n",
    "https://en.wikipedia.org/wiki/Attractor#Strange_attractor"
   ]
  },
  {
   "cell_type": "code",
   "execution_count": null,
   "metadata": {},
   "outputs": [],
   "source": [
    "from scipy.integrate import odeint as odeint\n",
    "import matplotlib.pyplot as plt\n",
    "import numpy as np\n",
    "from mpl_toolkits.mplot3d import Axes3D"
   ]
  },
  {
   "cell_type": "code",
   "execution_count": null,
   "metadata": {},
   "outputs": [],
   "source": [
    "def create_attractor(sigma, beta, rho):\n",
    "    r0 = [0.,1.,0.]\n",
    "    t = np.linspace(0,50,50000)\n",
    "    \n",
    "    def lorenz_oscillator(r0, sigma=sigma, beta=beta, rho=rho):\n",
    "        x, y, z = r0\n",
    "        return [sigma*(y - x), rho*x - x*z - y, x*y - beta*z]\n",
    "\n",
    "    return odeint(lorenz_oscillator, r0, t)"
   ]
  },
  {
   "cell_type": "code",
   "execution_count": null,
   "metadata": {},
   "outputs": [],
   "source": [
    "fig = plt.figure(figsize=(20,6))\n",
    "fig.gca(projection='3d')\n",
    "\n",
    "X = create_attractor(10.0, 8./3., 5.0)\n",
    "plt.plot(X[:,0],X[:,1], X[:,2], label='lorenz oscillator')\n",
    "plt.legend()"
   ]
  },
  {
   "cell_type": "code",
   "execution_count": null,
   "metadata": {},
   "outputs": [],
   "source": [
    "fig = plt.figure(figsize=(20,6))\n",
    "fig.gca(projection='3d')\n",
    "\n",
    "X = create_attractor(10.0, 8./3., 10.0)\n",
    "plt.plot(X[:,0],X[:,1], X[:,2], label='lorenz oscillator')\n",
    "plt.legend()"
   ]
  },
  {
   "cell_type": "code",
   "execution_count": null,
   "metadata": {},
   "outputs": [],
   "source": [
    "fig = plt.figure(figsize=(20,6))\n",
    "fig.gca(projection='3d')\n",
    "\n",
    "X = create_attractor(10.0, 8./3., 15.0)\n",
    "plt.plot(X[:,0],X[:,1], X[:,2], label='lorenz oscillator')\n",
    "plt.legend()"
   ]
  },
  {
   "cell_type": "code",
   "execution_count": null,
   "metadata": {},
   "outputs": [],
   "source": [
    "fig = plt.figure(figsize=(20,6))\n",
    "fig.gca(projection='3d')\n",
    "\n",
    "X = create_attractor(10.0, 8./3., 32.0)\n",
    "plt.plot(X[:,0],X[:,1], X[:,2], label='lorenz oscillator')\n",
    "plt.legend()"
   ]
  },
  {
   "cell_type": "markdown",
   "metadata": {},
   "source": [
    "### What do you think the `rho` parameter does?"
   ]
  },
  {
   "cell_type": "markdown",
   "metadata": {
    "deletable": false,
    "nbgrader": {
     "checksum": "9a08b7adb88e10a1fd8b49b62ecc1af7",
     "grade": true,
     "grade_id": "cell-e921345ab95130d9",
     "locked": false,
     "points": 5,
     "schema_version": 1,
     "solution": true
    }
   },
   "source": [
    "YOUR ANSWER HERE"
   ]
  }
 ],
 "metadata": {
  "kernelspec": {
   "display_name": "Python 3",
   "language": "python",
   "name": "python3"
  },
  "language_info": {
   "codemirror_mode": {
    "name": "ipython",
    "version": 3
   },
   "file_extension": ".py",
   "mimetype": "text/x-python",
   "name": "python",
   "nbconvert_exporter": "python",
   "pygments_lexer": "ipython3",
   "version": "3.6.4"
  }
 },
 "nbformat": 4,
 "nbformat_minor": 2
}
